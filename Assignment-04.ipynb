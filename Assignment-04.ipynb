{
 "cells": [
  {
   "cell_type": "code",
   "execution_count": 2,
   "id": "d1483927-5e1e-4c56-a03d-3b84ad2c74fb",
   "metadata": {},
   "outputs": [],
   "source": [
    "#q1)\n",
    "l=[('Sachin Tendulkar', 34357), ('Ricky Ponting', 27483), ('Jack Kallis', 25534), ('Virat Kohli', 24936)]"
   ]
  },
  {
   "cell_type": "code",
   "execution_count": 5,
   "id": "51b82016-593a-4b4a-8ae3-013d0ae9c1fc",
   "metadata": {},
   "outputs": [],
   "source": [
    "l1=sorted(l,key=lambda x:x[1])\n",
    "        "
   ]
  },
  {
   "cell_type": "code",
   "execution_count": 6,
   "id": "848c767d-2230-445a-815b-5089db321b66",
   "metadata": {},
   "outputs": [
    {
     "data": {
      "text/plain": [
       "[('Virat Kohli', 24936),\n",
       " ('Jack Kallis', 25534),\n",
       " ('Ricky Ponting', 27483),\n",
       " ('Sachin Tendulkar', 34357)]"
      ]
     },
     "execution_count": 6,
     "metadata": {},
     "output_type": "execute_result"
    }
   ],
   "source": [
    "l1"
   ]
  },
  {
   "cell_type": "code",
   "execution_count": 7,
   "id": "81d73c15-2af1-44c9-9147-e30017a4b964",
   "metadata": {},
   "outputs": [],
   "source": [
    "#q2)\n",
    "l=[1, 2, 3, 4, 5, 6, 7, 8, 9, 10]"
   ]
  },
  {
   "cell_type": "code",
   "execution_count": 8,
   "id": "da62c7ea-a150-4fa9-a88a-7fd48a16d5a5",
   "metadata": {},
   "outputs": [
    {
     "data": {
      "text/plain": [
       "[1, 4, 9, 16, 25, 36, 49, 64, 81, 100]"
      ]
     },
     "execution_count": 8,
     "metadata": {},
     "output_type": "execute_result"
    }
   ],
   "source": [
    "list(map(lambda x: x*x,l))"
   ]
  },
  {
   "cell_type": "code",
   "execution_count": 9,
   "id": "634f726f-293f-4dfe-b476-42f9044646a2",
   "metadata": {},
   "outputs": [],
   "source": [
    "#q3)\n",
    "l=[1, 2, 3, 4, 5, 6, 7, 8, 9, 10]\n",
    "\n"
   ]
  },
  {
   "cell_type": "code",
   "execution_count": 10,
   "id": "350c1ff1-90ac-48e9-a7df-0069e7ed0976",
   "metadata": {},
   "outputs": [
    {
     "data": {
      "text/plain": [
       "('1', '2', '3', '4', '5', '6', '7', '8', '9', '10')"
      ]
     },
     "execution_count": 10,
     "metadata": {},
     "output_type": "execute_result"
    }
   ],
   "source": [
    "tuple(map(lambda x:str(x),l))"
   ]
  },
  {
   "cell_type": "code",
   "execution_count": 11,
   "id": "66c9a697-9ef6-48a9-a2c0-17aaf0d9018e",
   "metadata": {},
   "outputs": [],
   "source": [
    "#q4)\n",
    "l=range(1,26)"
   ]
  },
  {
   "cell_type": "code",
   "execution_count": 13,
   "id": "0e53c8e5-c0cd-4045-be5b-cb5c24405b65",
   "metadata": {},
   "outputs": [],
   "source": [
    "from functools import reduce\n"
   ]
  },
  {
   "cell_type": "code",
   "execution_count": 14,
   "id": "f215c8be-06f6-4ba0-85d6-54952174d9e2",
   "metadata": {},
   "outputs": [
    {
     "data": {
      "text/plain": [
       "15511210043330985984000000"
      ]
     },
     "execution_count": 14,
     "metadata": {},
     "output_type": "execute_result"
    }
   ],
   "source": [
    "reduce(lambda x,y:x*y,l)"
   ]
  },
  {
   "cell_type": "code",
   "execution_count": 15,
   "id": "37c38193-ca8c-4f1e-bfaf-f108f791210a",
   "metadata": {},
   "outputs": [],
   "source": [
    "#q5)\n",
    "l=[2, 3, 6, 9, 27, 60, 90, 120, 55, 46]"
   ]
  },
  {
   "cell_type": "code",
   "execution_count": 21,
   "id": "b9392956-6851-4220-b61d-7e99a1f21196",
   "metadata": {},
   "outputs": [],
   "source": [
    "l1=list(filter(lambda x: x%2==0 and x%3==0,l))"
   ]
  },
  {
   "cell_type": "code",
   "execution_count": 22,
   "id": "58e4de98-3d8c-464e-bdbb-d8081a36755c",
   "metadata": {},
   "outputs": [
    {
     "data": {
      "text/plain": [
       "[6, 60, 90, 120]"
      ]
     },
     "execution_count": 22,
     "metadata": {},
     "output_type": "execute_result"
    }
   ],
   "source": [
    "l1"
   ]
  }
 ],
 "metadata": {
  "kernelspec": {
   "display_name": "Python 3 (ipykernel)",
   "language": "python",
   "name": "python3"
  },
  "language_info": {
   "codemirror_mode": {
    "name": "ipython",
    "version": 3
   },
   "file_extension": ".py",
   "mimetype": "text/x-python",
   "name": "python",
   "nbconvert_exporter": "python",
   "pygments_lexer": "ipython3",
   "version": "3.10.8"
  }
 },
 "nbformat": 4,
 "nbformat_minor": 5
}
